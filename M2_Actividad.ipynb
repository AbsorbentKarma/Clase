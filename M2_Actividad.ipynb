{
  "nbformat": 4,
  "nbformat_minor": 0,
  "metadata": {
    "colab": {
      "provenance": [],
      "authorship_tag": "ABX9TyMrcFC14wvE/iOS5WooYTT7",
      "include_colab_link": true
    },
    "kernelspec": {
      "name": "python3",
      "display_name": "Python 3"
    },
    "language_info": {
      "name": "python"
    }
  },
  "cells": [
    {
      "cell_type": "markdown",
      "metadata": {
        "id": "view-in-github",
        "colab_type": "text"
      },
      "source": [
        "<a href=\"https://colab.research.google.com/github/AbsorbentKarma/Clase/blob/main/M2_Actividad.ipynb\" target=\"_parent\"><img src=\"https://colab.research.google.com/assets/colab-badge.svg\" alt=\"Open In Colab\"/></a>"
      ]
    },
    {
      "cell_type": "markdown",
      "source": [
        "\n",
        "\n",
        "## Greedy 1"
      ],
      "metadata": {
        "id": "wMR0O7mFIMV7"
      }
    },
    {
      "cell_type": "markdown",
      "source": [
        "Esta parte del codigo solo es para poder interpretar el problema en forma de codigo, la forma en la que se pidio esto en chatGPT fue tomando una foto de la tabla con los datos necesarios y dando algunos de los datos del problema para asegurar que se entendiera el uso de nodos durante este trabajo."
      ],
      "metadata": {
        "id": "aGBlO4K38H2r"
      }
    },
    {
      "cell_type": "code",
      "execution_count": null,
      "metadata": {
        "colab": {
          "base_uri": "https://localhost:8080/"
        },
        "id": "zpE-a4GSBBxN",
        "outputId": "a97c1752-3f54-4623-877a-0425d2048966"
      },
      "outputs": [
        {
          "output_type": "stream",
          "name": "stdout",
          "text": [
            "   Conexión Ciudades Conectadas  Ancho de Banda (Mbps)\n",
            "0        e1                 A-B                    200\n",
            "1        e2                 A-C                    250\n",
            "2        e3                 A-D                    220\n",
            "3        e4                 A-E                    280\n",
            "4        e5                 A-F                    160\n",
            "5        e6                 A-G                    240\n",
            "6        e7                 A-H                    230\n",
            "7        e8                 A-I                    220\n",
            "8        e9                 A-J                    210\n",
            "9       e10                 B-C                    170\n",
            "10      e11                 B-D                    210\n",
            "11      e12                 B-E                    190\n",
            "12      e13                 B-F                    160\n",
            "13      e14                 B-G                    190\n",
            "14      e15                 B-H                    240\n",
            "15      e16                 B-I                    220\n",
            "16      e17                 B-J                    220\n",
            "17      e18                 C-D                    180\n",
            "18      e19                 C-E                    200\n",
            "19      e20                 C-F                    190\n",
            "20      e21                 C-G                    170\n",
            "21      e22                 C-H                    200\n",
            "22      e23                 C-I                    180\n",
            "23      e24                 C-J                    220\n",
            "24      e25                 D-E                    220\n",
            "25      e26                 D-F                    180\n",
            "26      e27                 D-G                    200\n",
            "27      e28                 D-H                    190\n",
            "28      e29                 D-I                    210\n",
            "29      e30                 D-J                    230\n",
            "30      e31                 E-F                    230\n",
            "31      e32                 E-G                    210\n",
            "32      e33                 E-H                    270\n",
            "33      e34                 E-I                    280\n",
            "34      e35                 E-J                    270\n",
            "35      e36                 F-G                    220\n",
            "36      e37                 F-H                    200\n",
            "37      e38                 F-I                    190\n",
            "38      e39                 F-J                    280\n",
            "39      e40                 G-H                    210\n",
            "40      e41                 G-I                    290\n",
            "41      e42                 G-J                    180\n",
            "42      e43                 H-I                    200\n",
            "43      e44                 H-J                    290\n",
            "44      e45                 I-J                    210\n"
          ]
        }
      ],
      "source": [
        "import pandas as pd\n",
        "import itertools\n",
        "\n",
        "# Crear un diccionario con los datos de la tabla\n",
        "data = {\n",
        "    'Conexión': [f'e{i+1}' for i in range(45)],\n",
        "    'Ciudades Conectadas': [\n",
        "        'A-B', 'A-C', 'A-D', 'A-E', 'A-F', 'A-G', 'A-H', 'A-I', 'A-J',\n",
        "        'B-C', 'B-D', 'B-E', 'B-F', 'B-G', 'B-H', 'B-I', 'B-J',\n",
        "        'C-D', 'C-E', 'C-F', 'C-G', 'C-H', 'C-I', 'C-J',\n",
        "        'D-E', 'D-F', 'D-G', 'D-H', 'D-I', 'D-J',\n",
        "        'E-F', 'E-G', 'E-H', 'E-I', 'E-J',\n",
        "        'F-G', 'F-H', 'F-I', 'F-J',\n",
        "        'G-H', 'G-I', 'G-J',\n",
        "        'H-I', 'H-J',\n",
        "        'I-J'\n",
        "    ],\n",
        "    'Ancho de Banda (Mbps)': [\n",
        "        200, 250, 220, 280, 160, 240, 230, 220, 210,\n",
        "        170, 210, 190, 160, 190, 240, 220, 220,\n",
        "        180, 200, 190, 170, 200, 180, 220,\n",
        "        220, 180, 200, 190, 210, 230,\n",
        "        230, 210, 270, 280, 270,\n",
        "        220, 200, 190, 280,\n",
        "        210, 290, 180,\n",
        "        200, 290, 210\n",
        "    ]\n",
        "}\n",
        "\n",
        "# Crear el dataframe\n",
        "df = pd.DataFrame(data)\n",
        "\n",
        "# Mostrar el dataframe\n",
        "print(df)"
      ]
    },
    {
      "cell_type": "markdown",
      "source": [
        "Para la primera solucion greedy se uso el modelo de respuesta ideal la cual se conforma de los siguientes pasos\n",
        "\n",
        "- Ordenar los nodos segun su peso en mbps\n",
        "- Iniciar un conjunto vacio en el cual se guardan los resultados que se vayan acumulando\n",
        "- Ordenar los nodos segun el orden dado anteriormente asegurando que no se tengan ciclos en ningun momento\n",
        "- Repetir el proceso hasta haber cubierto todos los nodos"
      ],
      "metadata": {
        "id": "O_NkXVWB8X_u"
      }
    },
    {
      "cell_type": "code",
      "source": [
        "# Ordenar las aristas en orden decreciente de ancho de banda\n",
        "df_sorted = df.sort_values(by='Ancho de Banda (Mbps)', ascending=False).reset_index(drop=True)\n",
        "\n",
        "# Inicializar el conjunto T para las aristas del árbol de expansión\n",
        "T = []\n",
        "\n",
        "# Función para encontrar el conjunto de un nodo (uso de Union-Find)\n",
        "def find(parent, i):\n",
        "    if parent[i] == i:\n",
        "        return i\n",
        "    else:\n",
        "        return find(parent, parent[i])\n",
        "\n",
        "# Función para unir dos subconjuntos\n",
        "def union(parent, rank, x, y):\n",
        "    xroot = find(parent, x)\n",
        "    yroot = find(parent, y)\n",
        "\n",
        "    if rank[xroot] < rank[yroot]:\n",
        "        parent[xroot] = yroot\n",
        "    elif rank[xroot] > rank[yroot]:\n",
        "        parent[yroot] = xroot\n",
        "    else:\n",
        "        parent[yroot] = xroot\n",
        "        rank[xroot] += 1\n",
        "\n",
        "# Inicializar el conjunto padre y el rango\n",
        "num_vertices = len(set(df['Ciudades Conectadas'].str.split('-').sum()))\n",
        "parent = [i for i in range(num_vertices)]\n",
        "rank = [0] * num_vertices\n",
        "\n",
        "# Mapeo de ciudades a índices\n",
        "city_to_index = {city: index for index, city in enumerate(set(df['Ciudades Conectadas'].str.split('-').sum()))}\n",
        "\n",
        "# Iterar sobre las aristas ordenadas\n",
        "for _, row in df_sorted.iterrows():\n",
        "    u, v = row['Ciudades Conectadas'].split('-')\n",
        "    u_index = city_to_index[u]\n",
        "    v_index = city_to_index[v]\n",
        "\n",
        "    # Verificar si se forma un ciclo\n",
        "    if find(parent, u_index) != find(parent, v_index):\n",
        "        T.append(row)\n",
        "        union(parent, rank, u_index, v_index)\n",
        "\n",
        "    # Detenerse si T contiene |V| - 1 aristas\n",
        "    if len(T) == num_vertices - 1:\n",
        "        break\n",
        "\n",
        "# Mostrar las conexiones seleccionadas y el ancho de banda total\n",
        "print(\"Conexiones seleccionadas para el árbol de expansión máximo:\")\n",
        "for edge in T:\n",
        "    print(f\"{edge['Ciudades Conectadas']} : {edge['Ancho de Banda (Mbps)']} Mbps\")\n",
        "\n",
        "\n",
        "# Sumar el ancho de banda total de las conexiones seleccionadas\n",
        "total_bandwidth = sum(edge['Ancho de Banda (Mbps)'] for edge in T)\n",
        "print(f\"\\nAncho de banda total de la solución actual: {total_bandwidth} Mbps\")"
      ],
      "metadata": {
        "colab": {
          "base_uri": "https://localhost:8080/"
        },
        "id": "HToLFbMtCFvq",
        "outputId": "a3d0e1f1-aa98-424f-9542-58ccac88b1d7"
      },
      "execution_count": null,
      "outputs": [
        {
          "output_type": "stream",
          "name": "stdout",
          "text": [
            "Conexiones seleccionadas para el árbol de expansión máximo:\n",
            "G-I : 290 Mbps\n",
            "H-J : 290 Mbps\n",
            "A-E : 280 Mbps\n",
            "E-I : 280 Mbps\n",
            "F-J : 280 Mbps\n",
            "E-H : 270 Mbps\n",
            "A-C : 250 Mbps\n",
            "B-H : 240 Mbps\n",
            "D-J : 230 Mbps\n",
            "\n",
            "Ancho de banda total de la solución actual: 2410 Mbps\n"
          ]
        }
      ]
    },
    {
      "cell_type": "markdown",
      "source": [
        "Para la busqueda local de este codigo se busco hacer una eliminacion de 2 de los nodos usados en nuestra solucion ideal a la vez, y con estas eliminaciones se probaron el resto de las opciones disponibles, en caso de observarse una mejor opcion se opta por esta.\n",
        "\n",
        "Prompt: ahora con esto quiero intentar encontrar una mejor solucion, asi que elimina de 2 en 2 las conexiones que se tienen actualmente y intenta todas las opciones posibles que se tengan. Recuerda que en la respuesta final solo pueden llegar a cambiar 2 partes de la solucion que ya se tiene"
      ],
      "metadata": {
        "id": "LLNyiv3z71Fz"
      }
    },
    {
      "cell_type": "code",
      "source": [
        "total_bandwidth = sum(edge['Ancho de Banda (Mbps)'] for edge in T)\n",
        "print(f\"\\nAncho de banda total: {total_bandwidth} Mbps\")\n",
        "\n",
        "# Función para verificar si un conjunto de aristas forma un árbol de expansión\n",
        "def is_valid_tree(edges, num_vertices):\n",
        "    parent = [i for i in range(num_vertices)]\n",
        "    rank = [0] * num_vertices\n",
        "\n",
        "    for edge in edges:\n",
        "        u, v = edge['Ciudades Conectadas'].split('-')\n",
        "        u_index = city_to_index[u]\n",
        "        v_index = city_to_index[v]\n",
        "\n",
        "        if find(parent, u_index) == find(parent, v_index):\n",
        "            return False  # Crea un ciclo\n",
        "        union(parent, rank, u_index, v_index)\n",
        "\n",
        "    return len(edges) == num_vertices - 1  # Debe haber |V| - 1 aristas\n",
        "\n",
        "# Guardar la solución actual\n",
        "current_solution = T.copy()\n",
        "current_bandwidth = total_bandwidth\n",
        "\n",
        "# Inicializar variables para almacenar la mejor solución encontrada\n",
        "best_solution = current_solution.copy()\n",
        "best_bandwidth = current_bandwidth\n",
        "\n",
        "# Probar eliminar combinaciones de aristas y agregar nuevas\n",
        "for pair in itertools.combinations(current_solution, 2):\n",
        "    # Crear una nueva solución eliminando las aristas del par\n",
        "    new_solution = [edge for edge in current_solution if edge['Ciudades Conectadas'] not in [pair[0]['Ciudades Conectadas'], pair[1]['Ciudades Conectadas']]]\n",
        "\n",
        "    # Intentar añadir nuevas conexiones que no estén en la solución actual\n",
        "    for _, row in df_sorted.iterrows():\n",
        "        # Solo agregar filas que no estén en new_solution\n",
        "        if row['Ciudades Conectadas'] not in [edge['Ciudades Conectadas'] for edge in new_solution]:\n",
        "            new_solution.append(row)  # Agregar la nueva conexión\n",
        "\n",
        "            # Verificar si la nueva solución es un árbol de expansión válido\n",
        "            if is_valid_tree(new_solution, num_vertices):\n",
        "                new_bandwidth = sum(edge['Ancho de Banda (Mbps)'] for edge in new_solution)\n",
        "\n",
        "                # Comparar con la mejor solución encontrada\n",
        "                if new_bandwidth > best_bandwidth:\n",
        "                    best_bandwidth = new_bandwidth\n",
        "                    best_solution = new_solution.copy()\n",
        "\n",
        "            new_solution.pop()  # Volver a eliminar la conexión agregada de la última posición\n",
        "\n",
        "# Imprimir la mejor solución encontrada\n",
        "print(\"Mejor solución encontrada:\")\n",
        "for edge in best_solution:\n",
        "    print(f\"{edge['Ciudades Conectadas']} : {edge['Ancho de Banda (Mbps)']} Mbps\")\n",
        "\n",
        "print(f\"\\nAncho de banda total de la mejor solución: {best_bandwidth} Mbps\")"
      ],
      "metadata": {
        "colab": {
          "base_uri": "https://localhost:8080/"
        },
        "id": "uVf3msEuC0gQ",
        "outputId": "0bbfb40a-438f-4402-d63c-7b137ef2ed3f"
      },
      "execution_count": null,
      "outputs": [
        {
          "output_type": "stream",
          "name": "stdout",
          "text": [
            "\n",
            "Ancho de banda total: 2410 Mbps\n",
            "Mejor solución encontrada:\n",
            "G-I : 290 Mbps\n",
            "H-J : 290 Mbps\n",
            "A-E : 280 Mbps\n",
            "E-I : 280 Mbps\n",
            "F-J : 280 Mbps\n",
            "E-H : 270 Mbps\n",
            "A-C : 250 Mbps\n",
            "B-H : 240 Mbps\n",
            "D-J : 230 Mbps\n",
            "\n",
            "Ancho de banda total de la mejor solución: 2410 Mbps\n"
          ]
        }
      ]
    },
    {
      "cell_type": "markdown",
      "source": [
        "## Exhaustivo\n",
        "Este metodo se uso para verificar si la respuesta greedy conseguida anteriormente era la respuesta mas optima, siendo que al intentar realizar la busqueda local no se tuvo ninguna clase de mejora.\n",
        "\n",
        "Prompt: Con este codigo quiero que hagas una examinacion de todas las posibilidades de nodos que se puedan hacer. Como limitante se tiene que saber que este problema esta inspirado por el Problema del  ́Arbol de Expansi ́on de M ́axima  Suma de Pesos asi que la solucion tiene que estar puesta con los limitantes ya decididos en ese tipo de problema los cuales son:\n",
        "\n",
        "-Todos los nodos se conectan\n",
        "- No se tienen ciclos\n",
        "- se consigue el valor maximo de mbps\n",
        "\n",
        "Copy paste del codigo usado anteriormente"
      ],
      "metadata": {
        "id": "Vi_nPaCLIRTI"
      }
    },
    {
      "cell_type": "code",
      "source": [
        "import pandas as pd\n",
        "import itertools\n",
        "import networkx as nx\n",
        "\n",
        "# Crear un diccionario con los datos de la tabla\n",
        "data = {\n",
        "    'Conexión': [f'e{i+1}' for i in range(45)],\n",
        "    'Ciudades Conectadas': [\n",
        "        'A-B', 'A-C', 'A-D', 'A-E', 'A-F', 'A-G', 'A-H', 'A-I', 'A-J',\n",
        "        'B-C', 'B-D', 'B-E', 'B-F', 'B-G', 'B-H', 'B-I', 'B-J',\n",
        "        'C-D', 'C-E', 'C-F', 'C-G', 'C-H', 'C-I', 'C-J',\n",
        "        'D-E', 'D-F', 'D-G', 'D-H', 'D-I', 'D-J',\n",
        "        'E-F', 'E-G', 'E-H', 'E-I', 'E-J',\n",
        "        'F-G', 'F-H', 'F-I', 'F-J',\n",
        "        'G-H', 'G-I', 'G-J',\n",
        "        'H-I', 'H-J',\n",
        "        'I-J'\n",
        "    ],\n",
        "    'Ancho de Banda (Mbps)': [\n",
        "        200, 250, 220, 280, 160, 240, 230, 220, 210,\n",
        "        170, 210, 190, 160, 190, 240, 220, 220,\n",
        "        180, 200, 190, 170, 200, 180, 220,\n",
        "        220, 180, 200, 190, 210, 230,\n",
        "        230, 210, 270, 280, 270,\n",
        "        220, 200, 190, 280,\n",
        "        210, 290, 180,\n",
        "        200, 290, 210\n",
        "    ]\n",
        "}\n",
        "\n",
        "# Crear el dataframe\n",
        "df = pd.DataFrame(data)\n",
        "\n",
        "# Mostrar el dataframe\n",
        "print(df)"
      ],
      "metadata": {
        "colab": {
          "base_uri": "https://localhost:8080/"
        },
        "id": "wVuYm4G_IJK9",
        "outputId": "97be62b5-c8f7-4bd8-ceac-195fe9fb1e60"
      },
      "execution_count": null,
      "outputs": [
        {
          "output_type": "stream",
          "name": "stdout",
          "text": [
            "   Conexión Ciudades Conectadas  Ancho de Banda (Mbps)\n",
            "0        e1                 A-B                    200\n",
            "1        e2                 A-C                    250\n",
            "2        e3                 A-D                    220\n",
            "3        e4                 A-E                    280\n",
            "4        e5                 A-F                    160\n",
            "5        e6                 A-G                    240\n",
            "6        e7                 A-H                    230\n",
            "7        e8                 A-I                    220\n",
            "8        e9                 A-J                    210\n",
            "9       e10                 B-C                    170\n",
            "10      e11                 B-D                    210\n",
            "11      e12                 B-E                    190\n",
            "12      e13                 B-F                    160\n",
            "13      e14                 B-G                    190\n",
            "14      e15                 B-H                    240\n",
            "15      e16                 B-I                    220\n",
            "16      e17                 B-J                    220\n",
            "17      e18                 C-D                    180\n",
            "18      e19                 C-E                    200\n",
            "19      e20                 C-F                    190\n",
            "20      e21                 C-G                    170\n",
            "21      e22                 C-H                    200\n",
            "22      e23                 C-I                    180\n",
            "23      e24                 C-J                    220\n",
            "24      e25                 D-E                    220\n",
            "25      e26                 D-F                    180\n",
            "26      e27                 D-G                    200\n",
            "27      e28                 D-H                    190\n",
            "28      e29                 D-I                    210\n",
            "29      e30                 D-J                    230\n",
            "30      e31                 E-F                    230\n",
            "31      e32                 E-G                    210\n",
            "32      e33                 E-H                    270\n",
            "33      e34                 E-I                    280\n",
            "34      e35                 E-J                    270\n",
            "35      e36                 F-G                    220\n",
            "36      e37                 F-H                    200\n",
            "37      e38                 F-I                    190\n",
            "38      e39                 F-J                    280\n",
            "39      e40                 G-H                    210\n",
            "40      e41                 G-I                    290\n",
            "41      e42                 G-J                    180\n",
            "42      e43                 H-I                    200\n",
            "43      e44                 H-J                    290\n",
            "44      e45                 I-J                    210\n"
          ]
        }
      ]
    },
    {
      "cell_type": "code",
      "source": [
        "# Crear un grafo vacío\n",
        "G = nx.Graph()\n",
        "\n",
        "# Añadir nodos y aristas al grafo\n",
        "for index, row in df.iterrows():\n",
        "    ciudad1, ciudad2 = row['Ciudades Conectadas'].split('-')\n",
        "    G.add_edge(ciudad1, ciudad2, weight=row['Ancho de Banda (Mbps)'])\n",
        "\n",
        "# Aplicar el algoritmo de Kruskal para encontrar el árbol de expansión máximo\n",
        "max_span_tree = nx.maximum_spanning_tree(G)\n",
        "\n",
        "# Calcular el valor total de Mbps\n",
        "total_mbps = sum(edge[2]['weight'] for edge in max_span_tree.edges(data=True))\n",
        "\n",
        "# Mostrar las conexiones seleccionadas en el árbol de expansión máximo\n",
        "print(\"Conexiones en el Árbol de Expansión Máximo:\")\n",
        "for edge in max_span_tree.edges(data=True):\n",
        "    print(f\"{edge[0]}-{edge[1]}: {edge[2]['weight']} Mbps\")\n",
        "\n",
        "print(f\"\\nValor total de Mbps: {total_mbps} Mbps\")"
      ],
      "metadata": {
        "colab": {
          "base_uri": "https://localhost:8080/"
        },
        "id": "FXGPr_UZKq8h",
        "outputId": "7e235617-c072-436e-841d-2c20006b8aa1"
      },
      "execution_count": null,
      "outputs": [
        {
          "output_type": "stream",
          "name": "stdout",
          "text": [
            "Conexiones en el Árbol de Expansión Máximo:\n",
            "A-E: 280 Mbps\n",
            "A-C: 250 Mbps\n",
            "B-H: 240 Mbps\n",
            "D-J: 230 Mbps\n",
            "E-I: 280 Mbps\n",
            "E-H: 270 Mbps\n",
            "F-J: 280 Mbps\n",
            "G-I: 290 Mbps\n",
            "H-J: 290 Mbps\n",
            "\n",
            "Valor total de Mbps: 2410 Mbps\n"
          ]
        }
      ]
    },
    {
      "cell_type": "markdown",
      "source": [
        "## Greedy 2\n",
        "Se usa el mismo codigo inicial para leer los datos dados."
      ],
      "metadata": {
        "id": "BJjywgSI9NAn"
      }
    },
    {
      "cell_type": "code",
      "source": [
        "import pandas as pd\n",
        "import itertools\n",
        "\n",
        "# Crear un diccionario con los datos de la tabla\n",
        "data = {\n",
        "    'Conexión': [f'e{i+1}' for i in range(45)],\n",
        "    'Ciudades Conectadas': [\n",
        "        'A-B', 'A-C', 'A-D', 'A-E', 'A-F', 'A-G', 'A-H', 'A-I', 'A-J',\n",
        "        'B-C', 'B-D', 'B-E', 'B-F', 'B-G', 'B-H', 'B-I', 'B-J',\n",
        "        'C-D', 'C-E', 'C-F', 'C-G', 'C-H', 'C-I', 'C-J',\n",
        "        'D-E', 'D-F', 'D-G', 'D-H', 'D-I', 'D-J',\n",
        "        'E-F', 'E-G', 'E-H', 'E-I', 'E-J',\n",
        "        'F-G', 'F-H', 'F-I', 'F-J',\n",
        "        'G-H', 'G-I', 'G-J',\n",
        "        'H-I', 'H-J',\n",
        "        'I-J'\n",
        "    ],\n",
        "    'Ancho de Banda (Mbps)': [\n",
        "        200, 250, 220, 280, 160, 240, 230, 220, 210,\n",
        "        170, 210, 190, 160, 190, 240, 220, 220,\n",
        "        180, 200, 190, 170, 200, 180, 220,\n",
        "        220, 180, 200, 190, 210, 230,\n",
        "        230, 210, 270, 280, 270,\n",
        "        220, 200, 190, 280,\n",
        "        210, 290, 180,\n",
        "        200, 290, 210\n",
        "    ]\n",
        "}\n",
        "\n",
        "# Crear el dataframe\n",
        "df = pd.DataFrame(data)\n",
        "\n",
        "# Mostrar el dataframe\n",
        "print(df)"
      ],
      "metadata": {
        "colab": {
          "base_uri": "https://localhost:8080/"
        },
        "id": "VdJ12Wc29UYq",
        "outputId": "daba589a-0d58-48ee-a1fd-7667b3dfd0d4"
      },
      "execution_count": 1,
      "outputs": [
        {
          "output_type": "stream",
          "name": "stdout",
          "text": [
            "   Conexión Ciudades Conectadas  Ancho de Banda (Mbps)\n",
            "0        e1                 A-B                    200\n",
            "1        e2                 A-C                    250\n",
            "2        e3                 A-D                    220\n",
            "3        e4                 A-E                    280\n",
            "4        e5                 A-F                    160\n",
            "5        e6                 A-G                    240\n",
            "6        e7                 A-H                    230\n",
            "7        e8                 A-I                    220\n",
            "8        e9                 A-J                    210\n",
            "9       e10                 B-C                    170\n",
            "10      e11                 B-D                    210\n",
            "11      e12                 B-E                    190\n",
            "12      e13                 B-F                    160\n",
            "13      e14                 B-G                    190\n",
            "14      e15                 B-H                    240\n",
            "15      e16                 B-I                    220\n",
            "16      e17                 B-J                    220\n",
            "17      e18                 C-D                    180\n",
            "18      e19                 C-E                    200\n",
            "19      e20                 C-F                    190\n",
            "20      e21                 C-G                    170\n",
            "21      e22                 C-H                    200\n",
            "22      e23                 C-I                    180\n",
            "23      e24                 C-J                    220\n",
            "24      e25                 D-E                    220\n",
            "25      e26                 D-F                    180\n",
            "26      e27                 D-G                    200\n",
            "27      e28                 D-H                    190\n",
            "28      e29                 D-I                    210\n",
            "29      e30                 D-J                    230\n",
            "30      e31                 E-F                    230\n",
            "31      e32                 E-G                    210\n",
            "32      e33                 E-H                    270\n",
            "33      e34                 E-I                    280\n",
            "34      e35                 E-J                    270\n",
            "35      e36                 F-G                    220\n",
            "36      e37                 F-H                    200\n",
            "37      e38                 F-I                    190\n",
            "38      e39                 F-J                    280\n",
            "39      e40                 G-H                    210\n",
            "40      e41                 G-I                    290\n",
            "41      e42                 G-J                    180\n",
            "42      e43                 H-I                    200\n",
            "43      e44                 H-J                    290\n",
            "44      e45                 I-J                    210\n"
          ]
        }
      ]
    },
    {
      "cell_type": "markdown",
      "source": [
        "Ahora con este codigo para nuestra segunda solucion se usara un acercamiento diferente.\n",
        "\n",
        "El metodo que se usara sera el usar inicialmente el nodo con un mayor valor de mbps, y seguido de esto el arbol de expansion se seguira usando los nodos que se esten usando actualmente, buscando constantemente el siguiente nodo con el valor mas alto entre las opciones disponibles hasta que se cubran todos los nodos necesarios para generar una respuesta sin tener un ciclo."
      ],
      "metadata": {
        "id": "xLsSN2oK9VqM"
      }
    },
    {
      "cell_type": "code",
      "source": [
        "import pandas as pd\n",
        "import networkx as nx\n",
        "\n",
        "# Crear el dataframe con los datos ya definidos\n",
        "data = {\n",
        "    'Conexión': [f'e{i+1}' for i in range(45)],\n",
        "    'Ciudades Conectadas': [\n",
        "        'A-B', 'A-C', 'A-D', 'A-E', 'A-F', 'A-G', 'A-H', 'A-I', 'A-J',\n",
        "        'B-C', 'B-D', 'B-E', 'B-F', 'B-G', 'B-H', 'B-I', 'B-J',\n",
        "        'C-D', 'C-E', 'C-F', 'C-G', 'C-H', 'C-I', 'C-J',\n",
        "        'D-E', 'D-F', 'D-G', 'D-H', 'D-I', 'D-J',\n",
        "        'E-F', 'E-G', 'E-H', 'E-I', 'E-J',\n",
        "        'F-G', 'F-H', 'F-I', 'F-J',\n",
        "        'G-H', 'G-I', 'G-J',\n",
        "        'H-I', 'H-J',\n",
        "        'I-J'\n",
        "    ],\n",
        "    'Ancho de Banda (Mbps)': [\n",
        "        200, 250, 220, 280, 160, 240, 230, 220, 210,\n",
        "        170, 210, 190, 160, 190, 240, 220, 220,\n",
        "        180, 200, 190, 170, 200, 180, 220,\n",
        "        220, 180, 200, 190, 210, 230,\n",
        "        230, 210, 270, 280, 270,\n",
        "        220, 200, 190, 280,\n",
        "        210, 290, 180,\n",
        "        200, 290, 210\n",
        "    ]\n",
        "}\n",
        "\n",
        "# Crear el dataframe\n",
        "df = pd.DataFrame(data)\n",
        "\n",
        "# Ordenar las conexiones por Ancho de Banda (Mbps) en orden descendente\n",
        "df_sorted = df.sort_values(by='Ancho de Banda (Mbps)', ascending=False)\n",
        "\n",
        "# Crear un grafo vacío\n",
        "G = nx.Graph()\n",
        "\n",
        "# Función para verificar si la adición de una conexión crearía un ciclo\n",
        "def creates_cycle(graph, node1, node2):\n",
        "    # Solo verificar si ambos nodos ya están en el grafo\n",
        "    if graph.has_node(node1) and graph.has_node(node2):\n",
        "        return nx.has_path(graph, node1, node2)\n",
        "    return False\n",
        "\n",
        "# Iniciar el árbol de expansión máximo con la conexión de mayor ancho de banda\n",
        "initial_connection = df_sorted.iloc[0]\n",
        "ciudad1, ciudad2 = initial_connection['Ciudades Conectadas'].split('-')\n",
        "G.add_edge(ciudad1, ciudad2, weight=initial_connection['Ancho de Banda (Mbps)'])\n",
        "\n",
        "# Conjunto para llevar un registro de los nodos ya conectados\n",
        "connected_nodes = {ciudad1, ciudad2}\n",
        "\n",
        "# Recorrer las conexiones restantes y agregarlas al grafo si no forman un ciclo\n",
        "for _, row in df_sorted.iloc[1:].iterrows():\n",
        "    ciudad1, ciudad2 = row['Ciudades Conectadas'].split('-')\n",
        "\n",
        "    # Verificar que al agregar la nueva conexión no se forme un ciclo\n",
        "    if (ciudad1 in connected_nodes or ciudad2 in connected_nodes) and not creates_cycle(G, ciudad1, ciudad2):\n",
        "        G.add_edge(ciudad1, ciudad2, weight=row['Ancho de Banda (Mbps)'])\n",
        "        connected_nodes.update([ciudad1, ciudad2])\n",
        "\n",
        "    # Detenerse cuando se hayan conectado todos los nodos\n",
        "    if len(connected_nodes) == 10:  # Hay 10 ciudades: A, B, C, D, E, F, G, H, I, J\n",
        "        break\n",
        "\n",
        "# Calcular el valor total de Mbps\n",
        "total_mbps = sum(edge[2]['weight'] for edge in G.edges(data=True))\n",
        "\n",
        "# Mostrar las conexiones seleccionadas y el valor total de Mbps\n",
        "print(\"Conexiones en el Árbol de Expansión Máximo:\")\n",
        "for edge in G.edges(data=True):\n",
        "    print(f\"{edge[0]}-{edge[1]}: {edge[2]['weight']} Mbps\")\n",
        "\n",
        "print(f\"\\nValor total de Mbps: {total_mbps} Mbps\")\n",
        "\n"
      ],
      "metadata": {
        "colab": {
          "base_uri": "https://localhost:8080/"
        },
        "id": "s9fIdG-R_JT9",
        "outputId": "16737f36-45aa-4f7e-c9d3-2864cc4fffe7"
      },
      "execution_count": 3,
      "outputs": [
        {
          "output_type": "stream",
          "name": "stdout",
          "text": [
            "Conexiones en el Árbol de Expansión Máximo:\n",
            "G-I: 290 Mbps\n",
            "G-A: 240 Mbps\n",
            "I-E: 280 Mbps\n",
            "E-H: 270 Mbps\n",
            "E-J: 270 Mbps\n",
            "E-F: 230 Mbps\n",
            "H-B: 240 Mbps\n",
            "J-D: 230 Mbps\n",
            "J-C: 220 Mbps\n",
            "\n",
            "Valor total de Mbps: 2270 Mbps\n"
          ]
        }
      ]
    },
    {
      "cell_type": "markdown",
      "source": [
        "Con este resultado ahora se realizara la busqueda local de la misma forma que en la solucion anterior.\n",
        "\n",
        "Prompt:\n",
        "ahora con esto quiero intentar encontrar una mejor solucion, asi que elimina de 2 en 2 las conexiones que se tienen actualmente y intenta todas las opciones posibles que se tengan. Recuerda que en la respuesta final solo pueden llegar a cambiar 2 partes de la solucion que ya se tiene"
      ],
      "metadata": {
        "id": "BBL-bPWV_kiT"
      }
    },
    {
      "cell_type": "code",
      "source": [
        "\n",
        "from itertools import combinations\n",
        "\n",
        "\n",
        "\n",
        "# Calcular el valor total de Mbps\n",
        "def calculate_total_mbps(graph):\n",
        "    return sum(edge[2]['weight'] for edge in graph.edges(data=True))\n",
        "\n",
        "total_mbps_original = calculate_total_mbps(G)\n",
        "\n",
        "# Guardar la solución original\n",
        "original_edges = list(G.edges(data=True))\n",
        "\n",
        "# Función para generar una nueva solución eliminando 2 conexiones y probando otras\n",
        "def try_alternatives(G, df, original_edges):\n",
        "    best_graph = G.copy()\n",
        "    best_mbps = calculate_total_mbps(G)\n",
        "\n",
        "    # Obtener todas las combinaciones de 2 conexiones para eliminar\n",
        "    for edges_to_remove in combinations(original_edges, 2):\n",
        "        temp_graph = G.copy()\n",
        "\n",
        "        # Eliminar las 2 conexiones seleccionadas\n",
        "        temp_graph.remove_edge(edges_to_remove[0][0], edges_to_remove[0][1])\n",
        "        temp_graph.remove_edge(edges_to_remove[1][0], edges_to_remove[1][1])\n",
        "\n",
        "        # Buscar todas las posibles conexiones restantes en df_sorted\n",
        "        remaining_edges = df[~df['Ciudades Conectadas'].isin([f\"{edges_to_remove[0][0]}-{edges_to_remove[0][1]}\", f\"{edges_to_remove[1][0]}-{edges_to_remove[1][1]}\"])]\n",
        "\n",
        "        # Intentar agregar nuevas conexiones sin formar ciclos\n",
        "        for new_edges in combinations(remaining_edges.itertuples(), 2):\n",
        "            ciudad1, ciudad2 = new_edges[0][2].split('-')  # Acceso a 'Ciudades Conectadas' por índice\n",
        "            ciudad3, ciudad4 = new_edges[1][2].split('-')\n",
        "\n",
        "            if not creates_cycle(temp_graph, ciudad1, ciudad2):\n",
        "                temp_graph.add_edge(ciudad1, ciudad2, weight=new_edges[0][3])  # 'Ancho de Banda (Mbps)' por índice\n",
        "\n",
        "            if not creates_cycle(temp_graph, ciudad3, ciudad4):\n",
        "                temp_graph.add_edge(ciudad3, ciudad4, weight=new_edges[1][3])\n",
        "\n",
        "            # Verificar si esta nueva solución es mejor\n",
        "            new_mbps = calculate_total_mbps(temp_graph)\n",
        "            if new_mbps > best_mbps:\n",
        "                best_graph = temp_graph.copy()\n",
        "                best_mbps = new_mbps\n",
        "\n",
        "    return best_graph, best_mbps\n",
        "\n",
        "# Ejecutar el proceso de mejora\n",
        "best_graph, best_total_mbps = try_alternatives(G, df_sorted, original_edges)\n",
        "\n",
        "# Mostrar las conexiones seleccionadas y el valor total de Mbps\n",
        "print(\"Conexiones en la mejor solución encontrada:\")\n",
        "for edge in best_graph.edges(data=True):\n",
        "    print(f\"{edge[0]}-{edge[1]}: {edge[2]['weight']} Mbps\")\n",
        "\n",
        "print(f\"\\nValor total de Mbps de la mejor solución: {best_total_mbps} Mbps\")\n",
        "print(f\"Valor total de Mbps de la solución original: {total_mbps_original} Mbps\")\n"
      ],
      "metadata": {
        "colab": {
          "base_uri": "https://localhost:8080/"
        },
        "id": "EhttbP40A3Zd",
        "outputId": "b7846071-001e-499f-bb7d-e6d3eadfe24c"
      },
      "execution_count": 10,
      "outputs": [
        {
          "output_type": "stream",
          "name": "stdout",
          "text": [
            "Conexiones en la mejor solución encontrada:\n",
            "G-I: 290 Mbps\n",
            "I-E: 280 Mbps\n",
            "E-H: 270 Mbps\n",
            "E-J: 270 Mbps\n",
            "E-A: 280 Mbps\n",
            "H-B: 240 Mbps\n",
            "J-D: 230 Mbps\n",
            "J-C: 220 Mbps\n",
            "J-F: 280 Mbps\n",
            "\n",
            "Valor total de Mbps de la mejor solución: 2360 Mbps\n",
            "Valor total de Mbps de la solución original: 2270 Mbps\n"
          ]
        }
      ]
    },
    {
      "cell_type": "markdown",
      "source": [
        "## Comparacion entre soluciones:\n",
        "\n",
        "La solucion 1 genero la respuesta mas optima posible para este problema, consiguiendo un valor de mbps de 2410, mientras que nuestra segunda solucion consiguio un valor original de 2270mbps, mostrando una clara falla en calidad de resultados en comparacion a nuestra primera solucion.\n",
        "\n",
        "En general consideraria que la primera solucion ademas de conseguir mejores resultados es la opcion mas eficiente, esto ya que el numero de veces que se tienen que leer los datos es mucho menor que en la segunda solucion, teniendo que leer unicamente hasta el siguiente valor mas alto no utilizado. En el caso de mi segunda solucion el numero de veces que se tienen que hacer ciclos no afecta mucho en el numero de datos evaluados, pero conforme se continua con el codigo el procesamiento de respuestas se vuelve mas pesado, por lo que en caso de ser un problema con una mayor cantidad de nodos es posible que se tengan una gran cantidad de problemas al tener una expansion de soluciones evaluadas en forma cuadratica.\n",
        "\n",
        "Despues de haber realizado la busqueda local nuestra segunda respuesta logro acercarse mucho mas a los valores que se consiguieron en nuestra solucion inicial, consiguiendo llegar hasta un valor de 2360 Mbps, teniendo una diferencia unicamente de 50 Mbps con la solucion mas eficiente posible."
      ],
      "metadata": {
        "id": "2EbidYMAByp2"
      }
    },
    {
      "cell_type": "markdown",
      "source": [
        "## Posibilidad de encontrar mejores soluciones\n",
        "En el caso de nuestra primera solucion es imposible que se puedan llegar a encontrar mejores soluciones ya que desde el inicio se llego a la respuesta mas optima.\n",
        "\n",
        "En nuestra segunda solucion existe un potencial de mejora el cual podria llegar a ser conseguible usando la misma metodologia de mejora que se aplico en nuestra busqueda local, pero esta puede llegar a tener sus limites. Para tener una mejora en este procedimiento seria necesario el agregar un tercer nodo el cual se elimine para evaluar mas posibles respuestas que se podrian llegar a tener, ya que el cambio de 2 nodos podria llegar a mostrarse como insuficiente.\n"
      ],
      "metadata": {
        "id": "hSRYp_KKDKGY"
      }
    }
  ]
}